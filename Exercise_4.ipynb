{
  "nbformat": 4,
  "nbformat_minor": 0,
  "metadata": {
    "colab": {
      "provenance": [],
      "authorship_tag": "ABX9TyPdRjemDnAN21DsyhhD4qt5",
      "include_colab_link": true
    },
    "kernelspec": {
      "name": "python3",
      "display_name": "Python 3"
    },
    "language_info": {
      "name": "python"
    }
  },
  "cells": [
    {
      "cell_type": "markdown",
      "metadata": {
        "id": "view-in-github",
        "colab_type": "text"
      },
      "source": [
        "<a href=\"https://colab.research.google.com/github/Abarabar-JN/DSA-CpE-010-CpE21S1/blob/main/Exercise_4.ipynb\" target=\"_parent\"><img src=\"https://colab.research.google.com/assets/colab-badge.svg\" alt=\"Open In Colab\"/></a>"
      ]
    },
    {
      "cell_type": "code",
      "execution_count": 2,
      "metadata": {
        "colab": {
          "base_uri": "https://localhost:8080/"
        },
        "id": "1ZAevm5zwVX9",
        "outputId": "24ea7378-52f3-485f-d07f-57a3106fb8af"
      },
      "outputs": [
        {
          "output_type": "stream",
          "name": "stdout",
          "text": [
            "['tac', 'god', 'hsif']\n",
            "['hsif', 'god', 'tac']\n"
          ]
        }
      ],
      "source": [
        "animals=['cat','dog','fish']\n",
        "backwards = [x[::-1] for x in animals]\n",
        "print(backwards)\n",
        "backwards.reverse()\n",
        "print(backwards)\n"
      ]
    }
  ]
}