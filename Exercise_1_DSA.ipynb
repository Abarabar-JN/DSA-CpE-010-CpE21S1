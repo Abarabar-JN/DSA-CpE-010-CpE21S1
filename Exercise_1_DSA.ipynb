{
  "nbformat": 4,
  "nbformat_minor": 0,
  "metadata": {
    "colab": {
      "provenance": [],
      "authorship_tag": "ABX9TyNltdoc4uQdHcOhsZGnrbKW",
      "include_colab_link": true
    },
    "kernelspec": {
      "name": "python3",
      "display_name": "Python 3"
    },
    "language_info": {
      "name": "python"
    }
  },
  "cells": [
    {
      "cell_type": "markdown",
      "metadata": {
        "id": "view-in-github",
        "colab_type": "text"
      },
      "source": [
        "<a href=\"https://colab.research.google.com/github/Abarabar-JN/DSA-CpE-010-CpE21S1/blob/main/Exercise_1_DSA.ipynb\" target=\"_parent\"><img src=\"https://colab.research.google.com/assets/colab-badge.svg\" alt=\"Open In Colab\"/></a>"
      ]
    },
    {
      "cell_type": "code",
      "execution_count": 1,
      "metadata": {
        "colab": {
          "base_uri": "https://localhost:8080/"
        },
        "id": "jVnjcLJA2Kzw",
        "outputId": "1c241ac8-cab3-4030-e93e-b26e10728dfd"
      },
      "outputs": [
        {
          "output_type": "stream",
          "name": "stdout",
          "text": [
            "Enter rectangle's length: 5\n",
            "Enter rectangle's width: 3\n",
            "The area of the rectangle with a length of 5.0 and a width of 3.0 is: 15.0\n"
          ]
        }
      ],
      "source": [
        "class Rectangle:\n",
        "    def __init__(self, length, width):\n",
        "        self.length = length\n",
        "        self.width = width\n",
        "\n",
        "    def area(self):\n",
        "        return self.length * self.width\n",
        "\n",
        "    def display_area(self):\n",
        "        print(f\"The area of the rectangle with a length of {self.length} and a width of {self.width} is: {self.area()}\")\n",
        "\n",
        "if __name__ == \"__main__\":\n",
        "    try:\n",
        "        length = float(input(\"Enter rectangle's length: \"))\n",
        "        width = float(input(\"Enter rectangle's width: \"))\n",
        "\n",
        "        my_rectangle = Rectangle(length, width)\n",
        "\n",
        "        my_rectangle.display_area()\n",
        "\n",
        "    except ValueError:\n",
        "        print(\"Please enter numeric values for length and width.\")\n"
      ]
    }
  ]
}