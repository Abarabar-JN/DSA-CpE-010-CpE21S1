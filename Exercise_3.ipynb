{
  "nbformat": 4,
  "nbformat_minor": 0,
  "metadata": {
    "colab": {
      "provenance": [],
      "authorship_tag": "ABX9TyMWgfgUszAggV/Z6Y+FVBUI",
      "include_colab_link": true
    },
    "kernelspec": {
      "name": "python3",
      "display_name": "Python 3"
    },
    "language_info": {
      "name": "python"
    }
  },
  "cells": [
    {
      "cell_type": "markdown",
      "metadata": {
        "id": "view-in-github",
        "colab_type": "text"
      },
      "source": [
        "<a href=\"https://colab.research.google.com/github/Abarabar-JN/DSA-CpE-010-CpE21S1/blob/main/Exercise_3.ipynb\" target=\"_parent\"><img src=\"https://colab.research.google.com/assets/colab-badge.svg\" alt=\"Open In Colab\"/></a>"
      ]
    },
    {
      "cell_type": "code",
      "execution_count": 1,
      "metadata": {
        "colab": {
          "base_uri": "https://localhost:8080/"
        },
        "id": "-T6uIlFA4H5Z",
        "outputId": "89d5fe4d-4957-4798-9cc4-306da6cf23fc"
      },
      "outputs": [
        {
          "output_type": "stream",
          "name": "stdout",
          "text": [
            "113.09733552923255\n"
          ]
        }
      ],
      "source": [
        "#To Compute The Area Of The Circle If The Radius Is Unknown\n",
        "\n",
        "from math import pi\n",
        "r=6\n",
        "area = pi*(r*r)\n",
        "print(area)"
      ]
    },
    {
      "cell_type": "code",
      "source": [
        "#To Compute The Area Of A Circle If The Diameter Is Unknown\n",
        "\n",
        "from math import pi\n",
        "d=12\n",
        "area = pi*(d*d)/4\n",
        "print(round(area,2))"
      ],
      "metadata": {
        "colab": {
          "base_uri": "https://localhost:8080/"
        },
        "id": "8Nq9GwbGPyS_",
        "outputId": "ea91923d-f69c-486b-9174-78e0b5b96747"
      },
      "execution_count": 2,
      "outputs": [
        {
          "output_type": "stream",
          "name": "stdout",
          "text": [
            "113.1\n"
          ]
        }
      ]
    },
    {
      "cell_type": "code",
      "source": [
        "#To Compute The Area Of The Circle If The Radius Is Unknown\n",
        "\n",
        "from math import pi\n",
        "r=6\n",
        "area = pi*(r*r)\n",
        "print(round(area,2))"
      ],
      "metadata": {
        "colab": {
          "base_uri": "https://localhost:8080/"
        },
        "id": "ZnelCmFnQtGe",
        "outputId": "7d3eab4c-306b-4424-f3c6-eb234ff6a7ea"
      },
      "execution_count": 3,
      "outputs": [
        {
          "output_type": "stream",
          "name": "stdout",
          "text": [
            "113.1\n"
          ]
        }
      ]
    },
    {
      "cell_type": "code",
      "source": [
        "#Accessing The Elements In The Array\n",
        "\n",
        "animals=['cat','dog','fish']\n",
        "x = animals[0]\n",
        "print(x)"
      ],
      "metadata": {
        "colab": {
          "base_uri": "https://localhost:8080/"
        },
        "id": "FZZjMJToQ3Ra",
        "outputId": "42e2afc5-af8a-46d8-dd92-de8f5f718f0e"
      },
      "execution_count": 4,
      "outputs": [
        {
          "output_type": "stream",
          "name": "stdout",
          "text": [
            "cat\n"
          ]
        }
      ]
    },
    {
      "cell_type": "code",
      "source": [
        "#Modifying Elements In The Array\n",
        "\n",
        "animals=['cat','dog','fish']\n",
        "animals[0] ='monkey'\n",
        "print(animals)"
      ],
      "metadata": {
        "colab": {
          "base_uri": "https://localhost:8080/"
        },
        "id": "hk0Aypy6R3Jb",
        "outputId": "a7b09eb5-262e-4873-d0c8-fd5e0106ea94"
      },
      "execution_count": 5,
      "outputs": [
        {
          "output_type": "stream",
          "name": "stdout",
          "text": [
            "['monkey', 'dog', 'fish']\n"
          ]
        }
      ]
    },
    {
      "cell_type": "code",
      "source": [
        "#Count The Length Of An Array\n",
        "\n",
        "animals=['cat','dog','fish']\n",
        "x = len(animals)\n",
        "print(x)"
      ],
      "metadata": {
        "colab": {
          "base_uri": "https://localhost:8080/"
        },
        "id": "16ZUJI9CUMXV",
        "outputId": "e568230f-9670-44d0-b56f-57fce7f787b8"
      },
      "execution_count": 7,
      "outputs": [
        {
          "output_type": "stream",
          "name": "stdout",
          "text": [
            "3\n"
          ]
        }
      ]
    },
    {
      "cell_type": "code",
      "source": [
        "#Looping The Elements Of An Array\n",
        "\n",
        "adj=['kind','friendly','loveable']\n",
        "animals=['cat','dog','fish']\n",
        "\n",
        "for x in adj:\n",
        "  for y in animals:\n",
        "    print(x,y)\n"
      ],
      "metadata": {
        "colab": {
          "base_uri": "https://localhost:8080/"
        },
        "id": "lj2bWiMCVv7B",
        "outputId": "ca271093-ea3e-4edd-f321-462b8e5cd025"
      },
      "execution_count": 8,
      "outputs": [
        {
          "output_type": "stream",
          "name": "stdout",
          "text": [
            "kind cat\n",
            "kind dog\n",
            "kind fish\n",
            "friendly cat\n",
            "friendly dog\n",
            "friendly fish\n",
            "loveable cat\n",
            "loveable dog\n",
            "loveable fish\n"
          ]
        }
      ]
    },
    {
      "cell_type": "code",
      "source": [
        "#Adding An Element After The Last Item In The Array\n",
        "\n",
        "animals=['cat','dog','fish']\n",
        "animals.append('monkey')\n",
        "print(animals)"
      ],
      "metadata": {
        "colab": {
          "base_uri": "https://localhost:8080/"
        },
        "id": "4l0t9ghkdJHY",
        "outputId": "b9749007-19ff-4198-ee95-ee506e2edc24"
      },
      "execution_count": 9,
      "outputs": [
        {
          "output_type": "stream",
          "name": "stdout",
          "text": [
            "['cat', 'dog', 'fish', 'monkey']\n"
          ]
        }
      ]
    },
    {
      "cell_type": "code",
      "source": [
        "#Adding An Element Before The 1st Item In The Array List\n",
        "animals.insert(0, \"bird\")\n",
        "animals.insert(3, 'cow')\n",
        "print(animals)"
      ],
      "metadata": {
        "colab": {
          "base_uri": "https://localhost:8080/"
        },
        "id": "uhnx3UjMd84W",
        "outputId": "ca137fd7-0ec3-4fcb-a8c2-05d4c758b7cc"
      },
      "execution_count": 11,
      "outputs": [
        {
          "output_type": "stream",
          "name": "stdout",
          "text": [
            "['bird', 'bird', 'cat', 'cow', 'dog', 'fish', 'monkey']\n"
          ]
        }
      ]
    },
    {
      "cell_type": "code",
      "source": [
        "#Removing An Element\n",
        "\n",
        "animals.pop(0)\n",
        "print(animals)"
      ],
      "metadata": {
        "colab": {
          "base_uri": "https://localhost:8080/"
        },
        "id": "DT4JzkgVfMhi",
        "outputId": "1e8863b0-d2e4-4480-97bd-1834373734d2"
      },
      "execution_count": 12,
      "outputs": [
        {
          "output_type": "stream",
          "name": "stdout",
          "text": [
            "['bird', 'cat', 'cow', 'dog', 'fish', 'monkey']\n"
          ]
        }
      ]
    },
    {
      "cell_type": "code",
      "source": [
        "#Reverse All The Elements In They Array\n",
        "\n",
        "animals.reverse()\n",
        "print(animals)"
      ],
      "metadata": {
        "colab": {
          "base_uri": "https://localhost:8080/"
        },
        "id": "qfAmg6WxfhP3",
        "outputId": "31b8e1d8-5bfe-459a-9826-1cf7c3b6a20c"
      },
      "execution_count": 13,
      "outputs": [
        {
          "output_type": "stream",
          "name": "stdout",
          "text": [
            "['monkey', 'fish', 'dog', 'cow', 'cat', 'bird']\n"
          ]
        }
      ]
    }
  ]
}