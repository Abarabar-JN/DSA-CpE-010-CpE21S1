{
  "nbformat": 4,
  "nbformat_minor": 0,
  "metadata": {
    "colab": {
      "provenance": [],
      "authorship_tag": "ABX9TyPSw721mDT9quzJJBTEcTr5",
      "include_colab_link": true
    },
    "kernelspec": {
      "name": "python3",
      "display_name": "Python 3"
    },
    "language_info": {
      "name": "python"
    }
  },
  "cells": [
    {
      "cell_type": "markdown",
      "metadata": {
        "id": "view-in-github",
        "colab_type": "text"
      },
      "source": [
        "<a href=\"https://colab.research.google.com/github/Abarabar-JN/DSA-CpE-010-CpE21S1/blob/main/Exercise_2.ipynb\" target=\"_parent\"><img src=\"https://colab.research.google.com/assets/colab-badge.svg\" alt=\"Open In Colab\"/></a>"
      ]
    },
    {
      "cell_type": "code",
      "execution_count": 2,
      "metadata": {
        "colab": {
          "base_uri": "https://localhost:8080/"
        },
        "id": "FEGwtpYoNxr4",
        "outputId": "1dfccc1e-b3ec-4c96-c09e-3b787843bc13"
      },
      "outputs": [
        {
          "output_type": "stream",
          "name": "stdout",
          "text": [
            "Enter rectangle's length: 5\n",
            "Enter rectangle's width: 3\n",
            "Enter triangle's base: 2\n",
            "Enter triangle's height: 6\n",
            "Enter square's side: 2\n",
            "The area of the Rectangle with a length of 5.0 and a width of 3.0 is: 15.0\n",
            "The area of the Triangle with a base of 2.0 and a height of 6.0 is: 6.0\n",
            "The area of the Square with a length of 2.0 is: 4.0\n"
          ]
        }
      ],
      "source": [
        "class Shapes():\n",
        "    class Rectangle():\n",
        "      def __init__(self, length, width):\n",
        "        self.length = length\n",
        "        self.width = width\n",
        "\n",
        "    class Triangle():\n",
        "      def __init__(self, base, height):\n",
        "        self.base = base\n",
        "        self.height = height\n",
        "\n",
        "    class Square():\n",
        "      def __init__(self, side):\n",
        "        self.side = side\n",
        "\n",
        "l = float(input(\"Enter rectangle's length: \"))\n",
        "w = float(input(\"Enter rectangle's width: \"))\n",
        "\n",
        "b = float(input(\"Enter triangle's base: \"))\n",
        "h = float(input(\"Enter triangle's height: \"))\n",
        "\n",
        "s = float(input(\"Enter square's side: \"))\n",
        "\n",
        "rectangle = Shapes.Rectangle(l, w)\n",
        "triangle = Shapes.Triangle(b, h)\n",
        "square = Shapes.Square(s)\n",
        "\n",
        "def Area():\n",
        "  print(f\"The area of the Rectangle with a length of {rectangle.length} and a width of {rectangle.width} is:\", rectangle.length * rectangle.width)\n",
        "  print(f\"The area of the Triangle with a base of {triangle.base} and a height of {triangle.height} is:\", triangle.base * triangle.height / 2)\n",
        "  print(f\"The area of the Square with a length of {square.side} is:\", square.side * square.side)\n",
        "\n",
        "Area()"
      ]
    }
  ]
}